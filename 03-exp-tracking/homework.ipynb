{
 "cells": [
  {
   "cell_type": "code",
   "execution_count": 1,
   "id": "e3f4a87c",
   "metadata": {},
   "outputs": [],
   "source": [
    "import pandas as pd\n",
    "import sklearn\n",
    "import seaborn as sns\n",
    "import matplotlib.pyplot as plt\n",
    "from sklearn.feature_extraction import DictVectorizer\n",
    "from sklearn.linear_model import LinearRegression\n",
    "from sklearn.linear_model import Lasso\n",
    "from sklearn.linear_model import Ridge\n",
    "from sklearn.metrics import mean_squared_error\n",
    "import pickle"
   ]
  },
  {
   "cell_type": "code",
   "execution_count": 2,
   "id": "bccec1f8",
   "metadata": {},
   "outputs": [
    {
     "data": {
      "text/plain": [
       "<Experiment: artifact_location='/workspaces/MLOPSZoomCamp/03-exp-tracking/mlruns/1', creation_time=1733958842474, experiment_id='1', last_update_time=1733958842474, lifecycle_stage='active', name='Basic Taxi Predictor', tags={}>"
      ]
     },
     "execution_count": 2,
     "metadata": {},
     "output_type": "execute_result"
    }
   ],
   "source": [
    "import mlflow\n",
    "\n",
    "mlflow.set_tracking_uri(\"sqlite:///mlflow.db\")\n",
    "mlflow.set_experiment(\"Basic Taxi Predictor\")"
   ]
  },
  {
   "cell_type": "code",
   "execution_count": 4,
   "id": "2cc722de",
   "metadata": {},
   "outputs": [],
   "source": [
    "def read_dataframe(filename):\n",
    "    df = pd.read_parquet(filename)\n",
    "\n",
    "    df['trip duration'] = df['tpep_dropoff_datetime'] - df['tpep_pickup_datetime']\n",
    "    df['trip duration'] = df['trip duration'].apply(lambda x: x.total_seconds() / 60)\n",
    "\n",
    "    dfClean = df[(df['trip duration'] >= 1) & (df['trip duration'] < 60)]\n",
    "\n",
    "    categorical = ['PULocationID','DOLocationID']\n",
    "\n",
    "    dfClean[categorical] = dfClean[categorical].astype(str)\n",
    "    return df"
   ]
  },
  {
   "cell_type": "code",
   "execution_count": 5,
   "id": "5219f31a",
   "metadata": {},
   "outputs": [
    {
     "name": "stderr",
     "output_type": "stream",
     "text": [
      "/tmp/ipykernel_21782/674562825.py:11: SettingWithCopyWarning: \n",
      "A value is trying to be set on a copy of a slice from a DataFrame.\n",
      "Try using .loc[row_indexer,col_indexer] = value instead\n",
      "\n",
      "See the caveats in the documentation: https://pandas.pydata.org/pandas-docs/stable/user_guide/indexing.html#returning-a-view-versus-a-copy\n",
      "  dfClean[categorical] = dfClean[categorical].astype(str)\n",
      "/tmp/ipykernel_21782/674562825.py:11: SettingWithCopyWarning: \n",
      "A value is trying to be set on a copy of a slice from a DataFrame.\n",
      "Try using .loc[row_indexer,col_indexer] = value instead\n",
      "\n",
      "See the caveats in the documentation: https://pandas.pydata.org/pandas-docs/stable/user_guide/indexing.html#returning-a-view-versus-a-copy\n",
      "  dfClean[categorical] = dfClean[categorical].astype(str)\n"
     ]
    }
   ],
   "source": [
    "df_train = read_dataframe('https://d37ci6vzurychx.cloudfront.net/trip-data/yellow_tripdata_2024-01.parquet')\n",
    "df_test = read_dataframe('https://d37ci6vzurychx.cloudfront.net/trip-data/yellow_tripdata_2024-02.parquet')"
   ]
  },
  {
   "cell_type": "code",
   "execution_count": 6,
   "id": "cd1f8f43",
   "metadata": {},
   "outputs": [],
   "source": [
    "dv = DictVectorizer()\n",
    "categorical = ['PULocationID','DOLocationID']\n",
    "numerical = ['trip_distance']\n",
    "\n",
    "X_train = dv.fit_transform(df_train[categorical + numerical].to_dict(orient='records'))\n",
    "\n",
    "X_val = dv.transform(df_test[categorical + numerical].to_dict(orient='records')) "
   ]
  },
  {
   "cell_type": "code",
   "execution_count": 7,
   "id": "46ef43f4",
   "metadata": {},
   "outputs": [],
   "source": [
    "target = 'trip duration'\n",
    "y_train = df_train[target].values\n",
    "y_val = df_test[target].values"
   ]
  },
  {
   "cell_type": "code",
   "execution_count": 26,
   "id": "384ad1fd",
   "metadata": {},
   "outputs": [],
   "source": [
    "with mlflow.start_run():\n",
    "\n",
    "    mlflow.set_tag(\"developer\",\"blake\")\n",
    "\n",
    "    mlflow.log_param(\"train data\", \"January 2024 Yellow\")\n",
    "    mlflow.log_param(\"test data\", \"February 2024 Yellow\")\n",
    "\n",
    "    alpha = 0.01 \n",
    "    mlflow.log_param(\"alpha\", alpha)\n",
    "\n",
    "\n",
    "    lr = Lasso(alpha)\n",
    "    lr.fit(X_train,y_train)\n",
    "\n",
    "    y_pred = lr.predict(X_val)\n",
    "\n",
    "    mse = mean_squared_error(y_val,y_pred)\n",
    "    mlflow.log_metric(\"mse\", mse)"
   ]
  },
  {
   "cell_type": "code",
   "execution_count": 11,
   "id": "7b4e3cef",
   "metadata": {},
   "outputs": [
    {
     "name": "stderr",
     "output_type": "stream",
     "text": [
      "/tmp/ipykernel_21782/4165094070.py:1: UserWarning: \n",
      "\n",
      "`distplot` is a deprecated function and will be removed in seaborn v0.14.0.\n",
      "\n",
      "Please adapt your code to use either `displot` (a figure-level function with\n",
      "similar flexibility) or `histplot` (an axes-level function for histograms).\n",
      "\n",
      "For a guide to updating your code to use the new functions, please see\n",
      "https://gist.github.com/mwaskom/de44147ed2974457ad6372750bbe5751\n",
      "\n",
      "  sns.distplot(y_pred, label='predict')\n",
      "/tmp/ipykernel_21782/4165094070.py:2: UserWarning: \n",
      "\n",
      "`distplot` is a deprecated function and will be removed in seaborn v0.14.0.\n",
      "\n",
      "Please adapt your code to use either `displot` (a figure-level function with\n",
      "similar flexibility) or `histplot` (an axes-level function for histograms).\n",
      "\n",
      "For a guide to updating your code to use the new functions, please see\n",
      "https://gist.github.com/mwaskom/de44147ed2974457ad6372750bbe5751\n",
      "\n",
      "  sns.distplot(y_train, label= 'actual')\n"
     ]
    },
    {
     "data": {
      "text/plain": [
       "<Axes: ylabel='Density'>"
      ]
     },
     "execution_count": 11,
     "metadata": {},
     "output_type": "execute_result"
    },
    {
     "data": {
      "image/png": "[encoded data removed]",
      "text/plain": [
       "<Figure size 640x480 with 1 Axes>"
      ]
     },
     "metadata": {},
     "output_type": "display_data"
    }
   ],
   "source": [
    "sns.distplot(y_pred, label='predict')\n",
    "sns.distplot(y_train, label= 'actual')"
   ]
  },
  {
   "cell_type": "code",
   "execution_count": 20,
   "id": "990019ea",
   "metadata": {},
   "outputs": [],
   "source": [
    "with open('Models/lin_reg.bin','wb') as f_out:\n",
    "    pickle.dump((dv,lr),f_out)"
   ]
  },
  {
   "cell_type": "code",
   "execution_count": null,
   "id": "b8e0444e",
   "metadata": {},
   "outputs": [],
   "source": []
  }
 ],
 "metadata": {
  "kernelspec": {
   "display_name": "exp-tracking",
   "language": "python",
   "name": "python3"
  },
  "language_info": {
   "codemirror_mode": {
    "name": "ipython",
    "version": 3
   },
   "file_extension": ".py",
   "mimetype": "text/x-python",
   "name": "python",
   "nbconvert_exporter": "python",
   "pygments_lexer": "ipython3",
   "version": "3.9.21"
  }
 },
 "nbformat": 4,
 "nbformat_minor": 5
}
